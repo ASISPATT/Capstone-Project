{
 "cells": [
  {
   "cell_type": "code",
   "execution_count": 22,
   "metadata": {},
   "outputs": [],
   "source": [
    "import pandas as pd\n",
    "import numpy as np\n"
   ]
  },
  {
   "cell_type": "code",
   "execution_count": 23,
   "metadata": {},
   "outputs": [],
   "source": [
    "df = pd.read_csv('filtered_data_75000.csv')"
   ]
  },
  {
   "cell_type": "code",
   "execution_count": 24,
   "metadata": {},
   "outputs": [
    {
     "data": {
      "text/plain": [
       "Sugar_Level                  75000\n",
       "Hb_Low                       75000\n",
       "Hb_High                      75000\n",
       "Age_LT_20                    75000\n",
       "Age_20_25                    75000\n",
       "Age_25_30                    75000\n",
       "Age_30_35                    75000\n",
       "Age_35_40                    75000\n",
       "Age_40_45                    75000\n",
       "Age_45_50                    75000\n",
       "Age_50_55                    75000\n",
       "Age_55_60                    75000\n",
       "Age_60_65                    75000\n",
       "Age_65_70                    75000\n",
       "Age_GT_70                    75000\n",
       "BMI_LT_18                    75000\n",
       "BMI_18_20                    75000\n",
       "BMI_20_22                    75000\n",
       "BMI_22_24                    75000\n",
       "BMI_24_26                    75000\n",
       "BMI_26_28                    75000\n",
       "BMI_28_30                    75000\n",
       "BMI_30_32                    75000\n",
       "BMI_GT_32                    75000\n",
       "Diabetes                     75000\n",
       "Prediabetes                  75000\n",
       "Nodiabetes                   75000\n",
       "BP_HIGH                      75000\n",
       "BP_LOW                       75000\n",
       "BP_Normal                    75000\n",
       "Pulse_Rate                   75000\n",
       "Iodine_level                 75000\n",
       "Sex_Female                   75000\n",
       "Sex_Male                     75000\n",
       "rural_urban_Rural            75000\n",
       "rural_urban_Urban            75000\n",
       "state_code_ASSAM             75000\n",
       "state_code_BIHAR             75000\n",
       "state_code_CHHATTISGARH      75000\n",
       "state_code_JHARKHAND         75000\n",
       "state_code_MADHYA PRADESH    75000\n",
       "state_code_ODISHA            75000\n",
       "state_code_RAJASTHAN         75000\n",
       "state_code_UTTAR PRADESH     75000\n",
       "state_code_UTTARAKHAND       75000\n",
       "Age_Group                    67647\n",
       "dtype: int64"
      ]
     },
     "execution_count": 24,
     "metadata": {},
     "output_type": "execute_result"
    }
   ],
   "source": [
    "df.count()"
   ]
  },
  {
   "cell_type": "code",
   "execution_count": 28,
   "metadata": {},
   "outputs": [],
   "source": [
    "outcomes = df.filter(['Nodiabetes','Diabetes', 'Prediabetes'],  axis=1)"
   ]
  },
  {
   "cell_type": "code",
   "execution_count": 29,
   "metadata": {},
   "outputs": [],
   "source": [
    "features = df.drop(['Age_Group',\n",
    " 'Sugar_Level',\n",
    " 'Diabetes',\n",
    " 'Prediabetes',\n",
    " 'Nodiabetes'],  axis = 1)"
   ]
  },
  {
   "cell_type": "code",
   "execution_count": 30,
   "metadata": {},
   "outputs": [
    {
     "data": {
      "text/plain": [
       "41"
      ]
     },
     "execution_count": 30,
     "metadata": {},
     "output_type": "execute_result"
    }
   ],
   "source": [
    "features.shape[1]"
   ]
  },
  {
   "cell_type": "code",
   "execution_count": 31,
   "metadata": {},
   "outputs": [],
   "source": [
    "from sklearn.model_selection import train_test_split\n",
    "X_train, X_test, y_train, y_test = train_test_split(features, outcomes, test_size=0.2, random_state=42)"
   ]
  },
  {
   "cell_type": "code",
   "execution_count": 39,
   "metadata": {},
   "outputs": [],
   "source": [
    "from keras.models import Sequential\n",
    "from keras.layers import Dense, Activation, Dropout \n",
    "from keras import optimizers"
   ]
  },
  {
   "cell_type": "code",
   "execution_count": 15,
   "metadata": {},
   "outputs": [],
   "source": [
    "model = Sequential()\n",
    "model.add(Dense(32, activation='relu', input_dim=41))\n",
    "model.add(Dense(64, activation='relu'))\n",
    "model.add(Dense(64, activation='relu'))\n",
    "model.add(Dense(3, activation='sigmoid'))\n",
    "model.compile(optimizer='rmsprop',\n",
    "              loss='binary_crossentropy',\n",
    "              metrics=['accuracy'])"
   ]
  },
  {
   "cell_type": "code",
   "execution_count": 33,
   "metadata": {},
   "outputs": [],
   "source": [
    "import os\n",
    "os.environ[\"PATH\"] += os.pathsep + 'C:/Program Files (x86)/Graphviz2.38/bin/'\n",
    "\n",
    "from keras.utils import plot_model\n",
    "#plot_model(model, to_file='model.png')\n",
    "plot_model(model, to_file='model.png', show_shapes=True, show_layer_names=True)"
   ]
  },
  {
   "cell_type": "code",
   "execution_count": 17,
   "metadata": {},
   "outputs": [
    {
     "name": "stdout",
     "output_type": "stream",
     "text": [
      "Epoch 1/5\n",
      "60000/60000 [==============================] - 2s 40us/step - loss: 0.5993 - acc: 0.6829\n",
      "Epoch 2/5\n",
      "60000/60000 [==============================] - 2s 38us/step - loss: 0.5926 - acc: 0.6877\n",
      "Epoch 3/5\n",
      "60000/60000 [==============================] - 2s 38us/step - loss: 0.5914 - acc: 0.6889\n",
      "Epoch 4/5\n",
      "60000/60000 [==============================] - 3s 43us/step - loss: 0.5906 - acc: 0.6896\n",
      "Epoch 5/5\n",
      "60000/60000 [==============================] - 3s 44us/step - loss: 0.5902 - acc: 0.6899\n"
     ]
    },
    {
     "data": {
      "text/plain": [
       "<keras.callbacks.History at 0x1844952ad68>"
      ]
     },
     "execution_count": 17,
     "metadata": {},
     "output_type": "execute_result"
    }
   ],
   "source": [
    "# x_train and y_train are Numpy arrays --just like in the Scikit-Learn API.\n",
    "model.fit(X_train, y_train, epochs=5,  batch_size=32)"
   ]
  },
  {
   "cell_type": "code",
   "execution_count": 15,
   "metadata": {},
   "outputs": [],
   "source": [
    "# Evaluate your performance in one line:\n",
    "#loss_and_metrics = model.evaluate(X_test, y_test, batch_size=128)"
   ]
  },
  {
   "cell_type": "code",
   "execution_count": 19,
   "metadata": {},
   "outputs": [
    {
     "name": "stdout",
     "output_type": "stream",
     "text": [
      "15000/15000 [==============================] - 1s 42us/step\n",
      "[0.5916186746279398, 0.6886666174570719]\n"
     ]
    }
   ],
   "source": [
    "# evaluate the keras model\n",
    "accuracy = model.evaluate(X_test, y_test, batch_size=128)\n",
    "#print('Accuracy: %.2f' % (accuracy*100))\n",
    "print(accuracy)"
   ]
  },
  {
   "cell_type": "code",
   "execution_count": 20,
   "metadata": {},
   "outputs": [
    {
     "name": "stdout",
     "output_type": "stream",
     "text": [
      "[[0.29099032 0.27874088 0.43153617]\n",
      " [0.46049666 0.14867996 0.40405723]\n",
      " [0.64206296 0.09139626 0.2525033 ]\n",
      " ...\n",
      " [0.5405446  0.17493087 0.27930441]\n",
      " [0.33275938 0.32435536 0.35218927]\n",
      " [0.22744499 0.38940468 0.39524862]]\n"
     ]
    }
   ],
   "source": [
    "#The predict method applies the trained model to inputs\n",
    "#     to generate outputs\n",
    "classes = model.predict(X_test, batch_size=128)\n",
    "print(classes)"
   ]
  },
  {
   "cell_type": "code",
   "execution_count": 34,
   "metadata": {},
   "outputs": [],
   "source": [
    "from sklearn.cross_validation import train_test_split\n",
    "X_train, X_test, y_train, y_test = train_test_split(features, outcomes, test_size=0.2, random_state=42)"
   ]
  },
  {
   "cell_type": "code",
   "execution_count": 43,
   "metadata": {},
   "outputs": [],
   "source": [
    "import keras as k\n",
    "k.optimizers.Adagrad(lr=0.01, epsilon=None, decay=0.0)\n",
    "\n",
    "model = Sequential()\n",
    "model.add(Dense(32, activation='relu', input_dim=41))\n",
    "model.add(Dense(64, activation='relu'))\n",
    "model.add(Dense(256, activation='relu'))\n",
    "model.add(Dropout(0.4))\n",
    "model.add(Dense(3, activation='softmax'))\n",
    "model.compile(optimizer='Adagrad',\n",
    "              loss='binary_crossentropy',\n",
    "              metrics=['accuracy'])"
   ]
  },
  {
   "cell_type": "code",
   "execution_count": 44,
   "metadata": {},
   "outputs": [],
   "source": [
    "import os\n",
    "os.environ[\"PATH\"] += os.pathsep + 'C:/Program Files (x86)/Graphviz2.38/bin/'\n",
    "\n",
    "from keras.utils import plot_model\n",
    "#plot_model(model, to_file='model.png')\n",
    "plot_model(model, to_file='model.png', show_shapes=True, show_layer_names=True)"
   ]
  },
  {
   "cell_type": "code",
   "execution_count": 46,
   "metadata": {},
   "outputs": [
    {
     "name": "stdout",
     "output_type": "stream",
     "text": [
      "Train on 54000 samples, validate on 6000 samples\n",
      "Epoch 1/20\n",
      "54000/54000 [==============================] - 1s 27us/step - loss: 0.5896 - acc: 0.6900 - val_loss: 0.5951 - val_acc: 0.6834\n",
      "Epoch 2/20\n",
      "54000/54000 [==============================] - 1s 24us/step - loss: 0.5891 - acc: 0.6900 - val_loss: 0.5945 - val_acc: 0.6844\n",
      "Epoch 3/20\n",
      "54000/54000 [==============================] - 1s 24us/step - loss: 0.5887 - acc: 0.6904 - val_loss: 0.5946 - val_acc: 0.6840\n",
      "Epoch 4/20\n",
      "54000/54000 [==============================] - 1s 24us/step - loss: 0.5882 - acc: 0.6913 - val_loss: 0.5949 - val_acc: 0.6843\n",
      "Epoch 5/20\n",
      "54000/54000 [==============================] - 1s 27us/step - loss: 0.5883 - acc: 0.6910 - val_loss: 0.5948 - val_acc: 0.6841\n",
      "Epoch 6/20\n",
      "54000/54000 [==============================] - 1s 26us/step - loss: 0.5875 - acc: 0.6915 - val_loss: 0.5952 - val_acc: 0.6831\n",
      "Epoch 7/20\n",
      "54000/54000 [==============================] - 1s 26us/step - loss: 0.5873 - acc: 0.6914 - val_loss: 0.5961 - val_acc: 0.6832\n",
      "Epoch 8/20\n",
      "54000/54000 [==============================] - 2s 30us/step - loss: 0.5870 - acc: 0.6914 - val_loss: 0.5951 - val_acc: 0.6832\n",
      "Epoch 9/20\n",
      "54000/54000 [==============================] - 1s 26us/step - loss: 0.5867 - acc: 0.6914 - val_loss: 0.5948 - val_acc: 0.6844\n",
      "Epoch 10/20\n",
      "54000/54000 [==============================] - 1s 27us/step - loss: 0.5866 - acc: 0.6919 - val_loss: 0.5949 - val_acc: 0.6843\n",
      "Epoch 11/20\n",
      "54000/54000 [==============================] - 2s 29us/step - loss: 0.5864 - acc: 0.6925 - val_loss: 0.5950 - val_acc: 0.6845\n",
      "Epoch 12/20\n",
      "54000/54000 [==============================] - 2s 32us/step - loss: 0.5862 - acc: 0.6923 - val_loss: 0.5952 - val_acc: 0.6849\n",
      "Epoch 13/20\n",
      "54000/54000 [==============================] - 2s 31us/step - loss: 0.5860 - acc: 0.6924 - val_loss: 0.5951 - val_acc: 0.6841\n",
      "Epoch 14/20\n",
      "54000/54000 [==============================] - 1s 27us/step - loss: 0.5856 - acc: 0.6928 - val_loss: 0.5951 - val_acc: 0.6848\n",
      "Epoch 15/20\n",
      "54000/54000 [==============================] - 1s 27us/step - loss: 0.5855 - acc: 0.6930 - val_loss: 0.5955 - val_acc: 0.6844\n",
      "Epoch 16/20\n",
      "54000/54000 [==============================] - 2s 29us/step - loss: 0.5853 - acc: 0.6930 - val_loss: 0.5961 - val_acc: 0.6842\n",
      "Epoch 17/20\n",
      "54000/54000 [==============================] - 2s 31us/step - loss: 0.5851 - acc: 0.6928 - val_loss: 0.5957 - val_acc: 0.6838\n",
      "Epoch 18/20\n",
      "54000/54000 [==============================] - 2s 33us/step - loss: 0.5849 - acc: 0.6932 - val_loss: 0.5956 - val_acc: 0.6843\n",
      "Epoch 19/20\n",
      "54000/54000 [==============================] - 2s 39us/step - loss: 0.5844 - acc: 0.6939 - val_loss: 0.5954 - val_acc: 0.6848\n",
      "Epoch 20/20\n",
      "54000/54000 [==============================] - 2s 36us/step - loss: 0.5847 - acc: 0.6936 - val_loss: 0.5957 - val_acc: 0.6837\n"
     ]
    },
    {
     "data": {
      "text/plain": [
       "<keras.callbacks.History at 0x18448695c88>"
      ]
     },
     "execution_count": 46,
     "metadata": {},
     "output_type": "execute_result"
    }
   ],
   "source": [
    "# x_train and y_train are Numpy arrays --just like in the Scikit-Learn API.\n",
    "model.fit(X_train, y_train, epochs=20,validation_split=0.1,shuffle=True, batch_size=128)\n",
    "#model.fit(X_train, y_train, validation_data=(X_val, Y_val), \n",
    "#          callbacks=[TestCallback((X_test, Y_test))])"
   ]
  },
  {
   "cell_type": "code",
   "execution_count": 47,
   "metadata": {},
   "outputs": [
    {
     "name": "stdout",
     "output_type": "stream",
     "text": [
      "15000/15000 [==============================] - 0s 16us/step\n",
      "[0.5888515111287435, 0.6896222365379333]\n"
     ]
    }
   ],
   "source": [
    "# evaluate the keras model\n",
    "accuracy = model.evaluate(X_test, y_test, batch_size=128)\n",
    "print(accuracy)"
   ]
  },
  {
   "cell_type": "code",
   "execution_count": 13,
   "metadata": {},
   "outputs": [],
   "source": [
    "#The predict method applies the trained model to inputs\n",
    "#     to generate outputs\n",
    "classes = model.predict(X_test, batch_size=128)"
   ]
  },
  {
   "cell_type": "code",
   "execution_count": 14,
   "metadata": {},
   "outputs": [
    {
     "name": "stdout",
     "output_type": "stream",
     "text": [
      "[[0.31697407 0.30667225 0.3763537 ]\n",
      " [0.47363955 0.11473276 0.4116277 ]\n",
      " [0.5959633  0.11566526 0.28837147]\n",
      " ...\n",
      " [0.5335016  0.1526712  0.31382713]\n",
      " [0.37208423 0.2715619  0.35635385]\n",
      " [0.25383052 0.3768519  0.36931753]]\n"
     ]
    }
   ],
   "source": [
    "print(classes)"
   ]
  },
  {
   "cell_type": "code",
   "execution_count": 49,
   "metadata": {},
   "outputs": [
    {
     "name": "stdout",
     "output_type": "stream",
     "text": [
      "Train on 45000 samples, validate on 15000 samples\n",
      "Epoch 1/50\n",
      "45000/45000 [==============================] - 5s 108us/step - loss: 0.5745 - acc: 0.6988 - val_loss: 0.5931 - val_acc: 0.6899\n",
      "Epoch 2/50\n",
      "45000/45000 [==============================] - 6s 123us/step - loss: 0.5748 - acc: 0.6995 - val_loss: 0.5934 - val_acc: 0.6899\n",
      "Epoch 3/50\n",
      "45000/45000 [==============================] - 5s 118us/step - loss: 0.5743 - acc: 0.6993 - val_loss: 0.5940 - val_acc: 0.6891\n",
      "Epoch 4/50\n",
      "45000/45000 [==============================] - 5s 115us/step - loss: 0.5740 - acc: 0.7002 - val_loss: 0.5937 - val_acc: 0.6899\n",
      "Epoch 5/50\n",
      "45000/45000 [==============================] - 6s 123us/step - loss: 0.5743 - acc: 0.7005 - val_loss: 0.5936 - val_acc: 0.6896\n",
      "Epoch 6/50\n",
      "45000/45000 [==============================] - 6s 126us/step - loss: 0.5737 - acc: 0.7003 - val_loss: 0.5938 - val_acc: 0.6894\n",
      "Epoch 7/50\n",
      "45000/45000 [==============================] - 9s 191us/step - loss: 0.5737 - acc: 0.7005 - val_loss: 0.5939 - val_acc: 0.6888\n",
      "Epoch 8/50\n",
      "45000/45000 [==============================] - 7s 166us/step - loss: 0.5738 - acc: 0.7002 - val_loss: 0.5937 - val_acc: 0.6896\n",
      "Epoch 9/50\n",
      "45000/45000 [==============================] - 9s 200us/step - loss: 0.5738 - acc: 0.7004 - val_loss: 0.5940 - val_acc: 0.6899\n",
      "Epoch 10/50\n",
      "45000/45000 [==============================] - 6s 130us/step - loss: 0.5737 - acc: 0.7012 - val_loss: 0.5939 - val_acc: 0.6895\n",
      "Epoch 11/50\n",
      "45000/45000 [==============================] - 7s 155us/step - loss: 0.5732 - acc: 0.7010 - val_loss: 0.5939 - val_acc: 0.6887\n",
      "Epoch 12/50\n",
      "45000/45000 [==============================] - 7s 147us/step - loss: 0.5732 - acc: 0.7007 - val_loss: 0.5941 - val_acc: 0.6893\n",
      "Epoch 13/50\n",
      "45000/45000 [==============================] - 6s 137us/step - loss: 0.5732 - acc: 0.7003 - val_loss: 0.5941 - val_acc: 0.6887\n",
      "Epoch 14/50\n",
      "45000/45000 [==============================] - 6s 140us/step - loss: 0.5732 - acc: 0.7009 - val_loss: 0.5943 - val_acc: 0.6889\n",
      "Epoch 15/50\n",
      "45000/45000 [==============================] - 7s 153us/step - loss: 0.5729 - acc: 0.7011 - val_loss: 0.5942 - val_acc: 0.6892\n",
      "Epoch 16/50\n",
      "45000/45000 [==============================] - 7s 149us/step - loss: 0.5732 - acc: 0.7009 - val_loss: 0.5946 - val_acc: 0.6889\n",
      "Epoch 17/50\n",
      "45000/45000 [==============================] - 7s 155us/step - loss: 0.5732 - acc: 0.7007 - val_loss: 0.5945 - val_acc: 0.6889\n",
      "Epoch 18/50\n",
      "45000/45000 [==============================] - 7s 156us/step - loss: 0.5729 - acc: 0.7009 - val_loss: 0.5942 - val_acc: 0.6891\n",
      "Epoch 19/50\n",
      "45000/45000 [==============================] - 7s 165us/step - loss: 0.5726 - acc: 0.7016 - val_loss: 0.5944 - val_acc: 0.6888\n",
      "Epoch 20/50\n",
      "45000/45000 [==============================] - 7s 156us/step - loss: 0.5726 - acc: 0.7015 - val_loss: 0.5944 - val_acc: 0.6891\n",
      "Epoch 21/50\n",
      "45000/45000 [==============================] - 6s 144us/step - loss: 0.5724 - acc: 0.7016 - val_loss: 0.5945 - val_acc: 0.6891\n",
      "Epoch 22/50\n",
      "45000/45000 [==============================] - 7s 158us/step - loss: 0.5727 - acc: 0.7013 - val_loss: 0.5944 - val_acc: 0.6897\n",
      "Epoch 23/50\n",
      "45000/45000 [==============================] - 7s 165us/step - loss: 0.5723 - acc: 0.7014 - val_loss: 0.5946 - val_acc: 0.6894\n",
      "Epoch 24/50\n",
      "45000/45000 [==============================] - 7s 165us/step - loss: 0.5723 - acc: 0.7020 - val_loss: 0.5948 - val_acc: 0.6887\n",
      "Epoch 25/50\n",
      "45000/45000 [==============================] - 7s 148us/step - loss: 0.5722 - acc: 0.7014 - val_loss: 0.5947 - val_acc: 0.6888\n",
      "Epoch 26/50\n",
      "45000/45000 [==============================] - 8s 182us/step - loss: 0.5723 - acc: 0.7023 - val_loss: 0.5947 - val_acc: 0.6891\n",
      "Epoch 27/50\n",
      "45000/45000 [==============================] - 11s 242us/step - loss: 0.5722 - acc: 0.7017 - val_loss: 0.5949 - val_acc: 0.6889\n",
      "Epoch 28/50\n",
      "45000/45000 [==============================] - 7s 159us/step - loss: 0.5720 - acc: 0.7014 - val_loss: 0.5953 - val_acc: 0.6894\n",
      "Epoch 29/50\n",
      "45000/45000 [==============================] - 6s 123us/step - loss: 0.5716 - acc: 0.7022 - val_loss: 0.5950 - val_acc: 0.6894\n",
      "Epoch 30/50\n",
      "45000/45000 [==============================] - 7s 155us/step - loss: 0.5717 - acc: 0.7022 - val_loss: 0.5952 - val_acc: 0.6893\n",
      "Epoch 31/50\n",
      "45000/45000 [==============================] - 6s 126us/step - loss: 0.5716 - acc: 0.7018 - val_loss: 0.5954 - val_acc: 0.6887\n",
      "Epoch 32/50\n",
      "45000/45000 [==============================] - 6s 139us/step - loss: 0.5718 - acc: 0.7025 - val_loss: 0.5953 - val_acc: 0.6887\n",
      "Epoch 33/50\n",
      "45000/45000 [==============================] - 6s 130us/step - loss: 0.5714 - acc: 0.7029 - val_loss: 0.5952 - val_acc: 0.6894\n",
      "Epoch 34/50\n",
      "45000/45000 [==============================] - 7s 149us/step - loss: 0.5718 - acc: 0.7018 - val_loss: 0.5953 - val_acc: 0.6892\n",
      "Epoch 35/50\n",
      "45000/45000 [==============================] - 6s 128us/step - loss: 0.5714 - acc: 0.7019 - val_loss: 0.5952 - val_acc: 0.6887\n",
      "Epoch 36/50\n",
      "45000/45000 [==============================] - 6s 133us/step - loss: 0.5715 - acc: 0.7019 - val_loss: 0.5951 - val_acc: 0.6889\n",
      "Epoch 37/50\n",
      "45000/45000 [==============================] - 6s 134us/step - loss: 0.5713 - acc: 0.7020 - val_loss: 0.5956 - val_acc: 0.6891\n",
      "Epoch 38/50\n",
      "45000/45000 [==============================] - 8s 186us/step - loss: 0.5705 - acc: 0.7026 - val_loss: 0.5955 - val_acc: 0.6888\n",
      "Epoch 39/50\n",
      "45000/45000 [==============================] - 7s 165us/step - loss: 0.5711 - acc: 0.7024 - val_loss: 0.5954 - val_acc: 0.6888\n",
      "Epoch 40/50\n",
      "45000/45000 [==============================] - 7s 164us/step - loss: 0.5716 - acc: 0.7024 - val_loss: 0.5956 - val_acc: 0.6890\n",
      "Epoch 41/50\n",
      "45000/45000 [==============================] - 7s 160us/step - loss: 0.5708 - acc: 0.7035 - val_loss: 0.5958 - val_acc: 0.6886\n",
      "Epoch 42/50\n",
      "45000/45000 [==============================] - 7s 156us/step - loss: 0.5707 - acc: 0.7028 - val_loss: 0.5958 - val_acc: 0.6888\n",
      "Epoch 43/50\n",
      "45000/45000 [==============================] - 6s 137us/step - loss: 0.5711 - acc: 0.7027 - val_loss: 0.5955 - val_acc: 0.6892\n",
      "Epoch 44/50\n",
      "45000/45000 [==============================] - 6s 138us/step - loss: 0.5707 - acc: 0.7030 - val_loss: 0.5958 - val_acc: 0.6888\n",
      "Epoch 45/50\n",
      "45000/45000 [==============================] - 7s 151us/step - loss: 0.5707 - acc: 0.7026 - val_loss: 0.5960 - val_acc: 0.6885\n",
      "Epoch 46/50\n",
      "45000/45000 [==============================] - 8s 176us/step - loss: 0.5712 - acc: 0.7020 - val_loss: 0.5958 - val_acc: 0.6887\n",
      "Epoch 47/50\n",
      "45000/45000 [==============================] - 7s 164us/step - loss: 0.5708 - acc: 0.7021 - val_loss: 0.5958 - val_acc: 0.6890\n",
      "Epoch 48/50\n",
      "45000/45000 [==============================] - 6s 134us/step - loss: 0.5705 - acc: 0.7022 - val_loss: 0.5960 - val_acc: 0.6882\n",
      "Epoch 49/50\n",
      "45000/45000 [==============================] - 6s 140us/step - loss: 0.5702 - acc: 0.7030 - val_loss: 0.5960 - val_acc: 0.6883\n",
      "Epoch 50/50\n",
      "45000/45000 [==============================] - 7s 146us/step - loss: 0.5701 - acc: 0.7034 - val_loss: 0.5963 - val_acc: 0.6890\n"
     ]
    },
    {
     "data": {
      "image/png": "[encoded data removed]",
      "text/plain": [
       "<Figure size 432x288 with 1 Axes>"
      ]
     },
     "metadata": {},
     "output_type": "display_data"
    },
    {
     "data": {
      "image/png": "[encoded data removed]",
      "text/plain": [
       "<Figure size 432x288 with 1 Axes>"
      ]
     },
     "metadata": {},
     "output_type": "display_data"
    }
   ],
   "source": [
    "import matplotlib.pyplot as plt\n",
    "\n",
    "history = model.fit(X_train, y_train, validation_split=0.25, epochs=50, batch_size=16, verbose=1)\n",
    "\n",
    "# Plot training & validation accuracy values\n",
    "plt.plot(history.history['acc'])\n",
    "plt.plot(history.history['val_acc'])\n",
    "plt.title('Model accuracy')\n",
    "plt.ylabel('Accuracy')\n",
    "plt.xlabel('Epoch')\n",
    "plt.legend(['Train', 'Test'], loc='upper left')\n",
    "plt.show()\n",
    "\n",
    "# Plot training & validation loss values\n",
    "plt.plot(history.history['loss'])\n",
    "plt.plot(history.history['val_loss'])\n",
    "plt.title('Model loss')\n",
    "plt.ylabel('Loss')\n",
    "plt.xlabel('Epoch')\n",
    "plt.legend(['Train', 'Test'], loc='upper left')\n",
    "plt.show()"
   ]
  },
  {
   "cell_type": "code",
   "execution_count": 50,
   "metadata": {},
   "outputs": [],
   "source": [
    "plt.show()"
   ]
  },
  {
   "cell_type": "code",
   "execution_count": null,
   "metadata": {},
   "outputs": [],
   "source": []
  }
 ],
 "metadata": {
  "kernelspec": {
   "display_name": "Python 3",
   "language": "python",
   "name": "python3"
  },
  "language_info": {
   "codemirror_mode": {
    "name": "ipython",
    "version": 3
   },
   "file_extension": ".py",
   "mimetype": "text/x-python",
   "name": "python",
   "nbconvert_exporter": "python",
   "pygments_lexer": "ipython3",
   "version": "3.6.6"
  }
 },
 "nbformat": 4,
 "nbformat_minor": 2
}
